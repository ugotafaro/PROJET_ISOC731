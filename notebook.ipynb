{
 "cells": [
  {
   "cell_type": "code",
   "execution_count": 29,
   "id": "initial_id",
   "metadata": {
    "collapsed": true,
    "ExecuteTime": {
     "end_time": "2024-01-24T09:55:35.036020800Z",
     "start_time": "2024-01-24T09:55:27.021865100Z"
    }
   },
   "outputs": [
    {
     "name": "stdout",
     "output_type": "stream",
     "text": [
      "Size of the largest cluster: 10000\n"
     ]
    }
   ],
   "source": [
    "import networkx as nx\n",
    "import matplotlib.pyplot as plt\n",
    "import numpy as np\n",
    "\n",
    "def generate_random_graph(n, p):\n",
    "    G = nx.erdos_renyi_graph(n, p)\n",
    "    return G\n",
    "\n",
    "def get_largest_cluster_size(graph):\n",
    "    connected_components = list(nx.connected_components(graph))\n",
    "    largest_cluster_size = max(len(component) for component in connected_components)\n",
    "    return largest_cluster_size\n",
    "\n",
    "G = generate_random_graph(10000, 0.01)\n",
    "# nx.draw(G, with_labels=True)\n",
    "# plt.show()\n",
    "\n",
    "largest_cluster_size = get_largest_cluster_size(G)\n",
    "print(\"Size of the largest cluster:\", largest_cluster_size)\n"
   ]
  },
  {
   "cell_type": "code",
   "execution_count": 29,
   "outputs": [],
   "source": [],
   "metadata": {
    "collapsed": false,
    "ExecuteTime": {
     "end_time": "2024-01-24T09:55:35.054545800Z",
     "start_time": "2024-01-24T09:55:35.032412900Z"
    }
   },
   "id": "49fdf4e41d3c4fe7"
  }
 ],
 "metadata": {
  "kernelspec": {
   "display_name": "Python 3",
   "language": "python",
   "name": "python3"
  },
  "language_info": {
   "codemirror_mode": {
    "name": "ipython",
    "version": 2
   },
   "file_extension": ".py",
   "mimetype": "text/x-python",
   "name": "python",
   "nbconvert_exporter": "python",
   "pygments_lexer": "ipython2",
   "version": "2.7.6"
  }
 },
 "nbformat": 4,
 "nbformat_minor": 5
}
