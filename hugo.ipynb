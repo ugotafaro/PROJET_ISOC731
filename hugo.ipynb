{
 "cells": [
  {
   "cell_type": "code",
   "execution_count": 3,
   "id": "initial_id",
   "metadata": {
    "collapsed": true,
    "ExecuteTime": {
     "end_time": "2024-01-24T19:55:25.304201500Z",
     "start_time": "2024-01-24T19:38:32.722452Z"
    }
   },
   "outputs": [
    {
     "name": "stdout",
     "output_type": "stream",
     "text": [
      "0% 10% 20% 40% 50% "
     ]
    },
    {
     "ename": "KeyboardInterrupt",
     "evalue": "",
     "output_type": "error",
     "traceback": [
      "\u001B[1;31m---------------------------------------------------------------------------\u001B[0m",
      "\u001B[1;31mKeyboardInterrupt\u001B[0m                         Traceback (most recent call last)",
      "Cell \u001B[1;32mIn[3], line 22\u001B[0m\n\u001B[0;32m     20\u001B[0m     graph \u001B[38;5;241m=\u001B[39m nx\u001B[38;5;241m.\u001B[39mfast_gnp_random_graph(n_nodes, edge_prob)\n\u001B[0;32m     21\u001B[0m     \u001B[38;5;28msum\u001B[39m \u001B[38;5;241m+\u001B[39m\u001B[38;5;241m=\u001B[39m nx\u001B[38;5;241m.\u001B[39mis_connected(graph)\n\u001B[1;32m---> 22\u001B[0m     clique_max \u001B[38;5;241m=\u001B[39m \u001B[38;5;28;43mmax\u001B[39;49m\u001B[43m(\u001B[49m\u001B[38;5;28;43mlen\u001B[39;49m\u001B[43m(\u001B[49m\u001B[43mclique\u001B[49m\u001B[43m)\u001B[49m\u001B[43m \u001B[49m\u001B[38;5;28;43;01mfor\u001B[39;49;00m\u001B[43m \u001B[49m\u001B[43mclique\u001B[49m\u001B[43m \u001B[49m\u001B[38;5;129;43;01min\u001B[39;49;00m\u001B[43m \u001B[49m\u001B[43mnx\u001B[49m\u001B[38;5;241;43m.\u001B[39;49m\u001B[43mfind_cliques\u001B[49m\u001B[43m(\u001B[49m\u001B[43mgraph\u001B[49m\u001B[43m)\u001B[49m\u001B[43m)\u001B[49m\n\u001B[0;32m     23\u001B[0m     max_clique_sum \u001B[38;5;241m+\u001B[39m\u001B[38;5;241m=\u001B[39m clique_max \u001B[38;5;241m/\u001B[39m n_nodes\n\u001B[0;32m     25\u001B[0m \u001B[38;5;66;03m# Calculate average graph connection\u001B[39;00m\n",
      "Cell \u001B[1;32mIn[3], line 22\u001B[0m, in \u001B[0;36m<genexpr>\u001B[1;34m(.0)\u001B[0m\n\u001B[0;32m     20\u001B[0m     graph \u001B[38;5;241m=\u001B[39m nx\u001B[38;5;241m.\u001B[39mfast_gnp_random_graph(n_nodes, edge_prob)\n\u001B[0;32m     21\u001B[0m     \u001B[38;5;28msum\u001B[39m \u001B[38;5;241m+\u001B[39m\u001B[38;5;241m=\u001B[39m nx\u001B[38;5;241m.\u001B[39mis_connected(graph)\n\u001B[1;32m---> 22\u001B[0m     clique_max \u001B[38;5;241m=\u001B[39m \u001B[38;5;28mmax\u001B[39m\u001B[43m(\u001B[49m\u001B[38;5;28;43mlen\u001B[39;49m\u001B[43m(\u001B[49m\u001B[43mclique\u001B[49m\u001B[43m)\u001B[49m\u001B[43m \u001B[49m\u001B[38;5;28;43;01mfor\u001B[39;49;00m\u001B[43m \u001B[49m\u001B[43mclique\u001B[49m\u001B[43m \u001B[49m\u001B[38;5;129;43;01min\u001B[39;49;00m\u001B[43m \u001B[49m\u001B[43mnx\u001B[49m\u001B[38;5;241;43m.\u001B[39;49m\u001B[43mfind_cliques\u001B[49m\u001B[43m(\u001B[49m\u001B[43mgraph\u001B[49m\u001B[43m)\u001B[49m\u001B[43m)\u001B[49m\n\u001B[0;32m     23\u001B[0m     max_clique_sum \u001B[38;5;241m+\u001B[39m\u001B[38;5;241m=\u001B[39m clique_max \u001B[38;5;241m/\u001B[39m n_nodes\n\u001B[0;32m     25\u001B[0m \u001B[38;5;66;03m# Calculate average graph connection\u001B[39;00m\n",
      "File \u001B[1;32m~\\Desktop\\DATA731 - Stochastique\\sources_TP3\\venv\\Lib\\site-packages\\networkx\\algorithms\\clique.py:287\u001B[0m, in \u001B[0;36mfind_cliques\u001B[1;34m(G, nodes)\u001B[0m\n\u001B[0;32m    285\u001B[0m             subg \u001B[38;5;241m=\u001B[39m subg_q\n\u001B[0;32m    286\u001B[0m             cand \u001B[38;5;241m=\u001B[39m cand_q\n\u001B[1;32m--> 287\u001B[0m             u \u001B[38;5;241m=\u001B[39m \u001B[38;5;28;43mmax\u001B[39;49m\u001B[43m(\u001B[49m\u001B[43msubg\u001B[49m\u001B[43m,\u001B[49m\u001B[43m \u001B[49m\u001B[43mkey\u001B[49m\u001B[38;5;241;43m=\u001B[39;49m\u001B[38;5;28;43;01mlambda\u001B[39;49;00m\u001B[43m \u001B[49m\u001B[43mu\u001B[49m\u001B[43m:\u001B[49m\u001B[43m \u001B[49m\u001B[38;5;28;43mlen\u001B[39;49m\u001B[43m(\u001B[49m\u001B[43mcand\u001B[49m\u001B[43m \u001B[49m\u001B[38;5;241;43m&\u001B[39;49m\u001B[43m \u001B[49m\u001B[43madj\u001B[49m\u001B[43m[\u001B[49m\u001B[43mu\u001B[49m\u001B[43m]\u001B[49m\u001B[43m)\u001B[49m\u001B[43m)\u001B[49m\n\u001B[0;32m    288\u001B[0m             ext_u \u001B[38;5;241m=\u001B[39m cand \u001B[38;5;241m-\u001B[39m adj[u]\n\u001B[0;32m    289\u001B[0m \u001B[38;5;28;01melse\u001B[39;00m:\n",
      "File \u001B[1;32m~\\Desktop\\DATA731 - Stochastique\\sources_TP3\\venv\\Lib\\site-packages\\networkx\\algorithms\\clique.py:287\u001B[0m, in \u001B[0;36mfind_cliques.<locals>.<lambda>\u001B[1;34m(u)\u001B[0m\n\u001B[0;32m    285\u001B[0m             subg \u001B[38;5;241m=\u001B[39m subg_q\n\u001B[0;32m    286\u001B[0m             cand \u001B[38;5;241m=\u001B[39m cand_q\n\u001B[1;32m--> 287\u001B[0m             u \u001B[38;5;241m=\u001B[39m \u001B[38;5;28mmax\u001B[39m(subg, key\u001B[38;5;241m=\u001B[39m\u001B[38;5;28;01mlambda\u001B[39;00m u: \u001B[38;5;28mlen\u001B[39m(cand \u001B[38;5;241m&\u001B[39m adj[u]))\n\u001B[0;32m    288\u001B[0m             ext_u \u001B[38;5;241m=\u001B[39m cand \u001B[38;5;241m-\u001B[39m adj[u]\n\u001B[0;32m    289\u001B[0m \u001B[38;5;28;01melse\u001B[39;00m:\n",
      "\u001B[1;31mKeyboardInterrupt\u001B[0m: "
     ]
    }
   ],
   "source": [
    "import networkx as nx\n",
    "import matplotlib.pyplot as plt\n",
    "import numpy as np\n",
    "\n",
    "def q1():\n",
    "    n_nodes = 1000\n",
    "    n_iterations = 10 # Generally 200 is enough\n",
    "    increment = .05\n",
    "    prob_max = .5\n",
    "    \n",
    "    x = np.arange(0.01, prob_max, increment)\n",
    "    graph_connections = np.zeros(len(x))\n",
    "    graph_max_cliques = np.zeros(len(x))\n",
    "    \n",
    "    # For each edge probability\n",
    "    for i, edge_prob in enumerate(x):\n",
    "        sum, max_clique_sum = 0, 0\n",
    "        \n",
    "        # Calculate many graph connections\n",
    "        for j in range(0, n_iterations):\n",
    "            graph = nx.fast_gnp_random_graph(n_nodes, edge_prob)\n",
    "            sum += nx.is_connected(graph)\n",
    "            clique_max = max(len(clique) for clique in nx.find_cliques(graph))\n",
    "            max_clique_sum += clique_max / n_nodes\n",
    "            \n",
    "        # Calculate average graph connection\n",
    "        avg_connection = sum / n_iterations\n",
    "        avg_max_clique = max_clique_sum / n_iterations\n",
    "        \n",
    "        graph_connections[i] = avg_connection\n",
    "        graph_max_cliques[i] = avg_max_clique\n",
    "    \n",
    "        if (edge_prob/prob_max*100) % 10 == 0: print(f\"{edge_prob/prob_max:.0%}\", end=\" \")\n",
    "        \n",
    "    color = 'tab:blue'\n",
    "    fig, ax1 = plt.subplots()\n",
    "    ax1.set_xlabel('Probabilité d\\'avoir une arête')\n",
    "    ax1.set_ylabel('Probabilité que le graphe soit connecté', color=color)\n",
    "    ax1.plot(x, graph_connections, color=color)\n",
    "    ax1.tick_params(axis='y', labelcolor=color)\n",
    "    \n",
    "    ax2 = ax1.twinx()\n",
    "    color = 'tab:red'\n",
    "    ax2.set_ylabel('Degré max des cliques du graphe', color=color)\n",
    "    ax2.plot(x, graph_max_cliques, color=color)\n",
    "    ax2.tick_params(axis='y', labelcolor=color)\n",
    "\n",
    "    plt.show()\n",
    "    \n",
    "q1()"
   ]
  },
  {
   "cell_type": "code",
   "execution_count": 146,
   "outputs": [
    {
     "name": "stdout",
     "output_type": "stream",
     "text": [
      "Graph is connected: False\n"
     ]
    }
   ],
   "source": [
    "# Check if a node still has a timer > 0\n",
    "def is_done(graph):\n",
    "    for node in graph.nodes:\n",
    "        if graph.nodes[node]['timer'] > 0: return False\n",
    "    return True\n",
    "\n",
    "def q2(n_nodes):\n",
    "    graph = nx.Graph()\n",
    "    \n",
    "    # Creating graph with n_nodes nodes, each node has a random position and a random timer\n",
    "    for i in range(n_nodes):\n",
    "        graph.add_node(\n",
    "            i,\n",
    "            timer=np.random.randint(0, n_nodes),\n",
    "            value=0,\n",
    "        )\n",
    "        \n",
    "    while not is_done(graph):\n",
    "        # TODO : Est-ce que les timer égaux s'activent successivement ou simultanément ?\n",
    "        # TODO : Est-ce que la valeur des voisins s'actualisent quand on ajoute un edge ?\n",
    "        for i, node in graph.nodes(data=True):\n",
    "            # Skip if timer is 0\n",
    "            if node['timer'] <= 0: continue\n",
    "            \n",
    "            # Decrement the timer\n",
    "            node['timer'] -= 1\n",
    "            \n",
    "            # Skip if timer is not 0\n",
    "            if node['timer'] > 0: continue\n",
    "            \n",
    "            # Get the neighbors of the node\n",
    "            neighbors = graph.neighbors(i)\n",
    "            \n",
    "            # Get all nodes except the specified node and its direct neighbors\n",
    "            others = set(graph.nodes) - set([i] + list(neighbors))\n",
    "            \n",
    "            # If there are no other nodes, stop\n",
    "            # This should never happen\n",
    "            if others == set():\n",
    "                print(\"No other nodes\")\n",
    "                break\n",
    "            \n",
    "            # Get other node with the highest value\n",
    "            best_node = sorted(others, key=lambda x: graph.nodes[x]['value'], reverse=True)[0]\n",
    "\n",
    "            # Add new edge to the node with the highest value\n",
    "            graph.add_edge(i, best_node)\n",
    "            graph.nodes[i]['value'] = graph.nodes[best_node]['value'] + 1\n",
    "            \n",
    "    print(\"Graph is connected:\", nx.is_connected(graph))\n",
    "    if nx.is_connected(graph):\n",
    "        avg_shortest_path_length = nx.average_shortest_path_length(graph)\n",
    "        print(f\"Average shortest path length: {avg_shortest_path_length:.2f}\")\n",
    "\n",
    "\n",
    "q2(100)"
   ],
   "metadata": {
    "collapsed": false,
    "ExecuteTime": {
     "end_time": "2024-01-24T20:49:09.230002400Z",
     "start_time": "2024-01-24T20:49:09.218897200Z"
    }
   },
   "id": "ebdceb48f5e6bb20"
  }
 ],
 "metadata": {
  "kernelspec": {
   "display_name": "Python 3",
   "language": "python",
   "name": "python3"
  },
  "language_info": {
   "codemirror_mode": {
    "name": "ipython",
    "version": 2
   },
   "file_extension": ".py",
   "mimetype": "text/x-python",
   "name": "python",
   "nbconvert_exporter": "python",
   "pygments_lexer": "ipython2",
   "version": "2.7.6"
  }
 },
 "nbformat": 4,
 "nbformat_minor": 5
}
